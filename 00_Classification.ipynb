{
 "cells": [
  {
   "cell_type": "code",
   "execution_count": null,
   "metadata": {},
   "outputs": [],
   "source": [
    "import numpy as np \n",
    "import matplotlib.pyplot as plt \n",
    "%matplotlib inline\n",
    "import pandas as pd \n",
    "\n",
    "from sklearn import svm \n",
    "from sklearn.svm import LinearSVC\n",
    "from sklearn.neighbors import KNeighborsClassifier\n",
    "from sklearn.naive_bayes import GaussianNB"
   ]
  },
  {
   "cell_type": "code",
   "execution_count": null,
   "metadata": {},
   "outputs": [],
   "source": [
    "data = np.load('data.npy')"
   ]
  },
  {
   "cell_type": "code",
   "execution_count": null,
   "metadata": {},
   "outputs": [],
   "source": [
    "data = np.mean(data, axis=1)"
   ]
  },
  {
   "cell_type": "code",
   "execution_count": null,
   "metadata": {},
   "outputs": [],
   "source": [
    "data.shape"
   ]
  },
  {
   "cell_type": "code",
   "execution_count": null,
   "metadata": {},
   "outputs": [],
   "source": [
    "np.save('classification_data', data)"
   ]
  },
  {
   "cell_type": "code",
   "execution_count": null,
   "metadata": {},
   "outputs": [],
   "source": [
    "key = pd.read_csv('key.csv')"
   ]
  },
  {
   "cell_type": "code",
   "execution_count": null,
   "metadata": {},
   "outputs": [],
   "source": [
    "area_list = key['ccf']"
   ]
  },
  {
   "cell_type": "code",
   "execution_count": null,
   "metadata": {},
   "outputs": [],
   "source": [
    "len(area_list)"
   ]
  },
  {
   "cell_type": "code",
   "execution_count": null,
   "metadata": {},
   "outputs": [],
   "source": [
    "area_list_unique = []\n",
    "for area in area_list:\n",
    "    if area not in area_list_unique:\n",
    "        area_list_unique.append(area)"
   ]
  },
  {
   "cell_type": "code",
   "execution_count": null,
   "metadata": {},
   "outputs": [],
   "source": [
    "area_list_unique"
   ]
  },
  {
   "cell_type": "code",
   "execution_count": null,
   "metadata": {},
   "outputs": [],
   "source": [
    "area_ind_list = []\n",
    "for key in area_list_unique: \n",
    "    area_ind= [i for i, area in enumerate(area_list) if area==key]\n",
    "    area_ind_list.append(area_ind)"
   ]
  },
  {
   "cell_type": "code",
   "execution_count": null,
   "metadata": {},
   "outputs": [],
   "source": [
    "area_ind_len = []\n",
    "for i in range(8):\n",
    "    area_ind_len.append(len(area_ind_list[i]))"
   ]
  },
  {
   "cell_type": "code",
   "execution_count": null,
   "metadata": {},
   "outputs": [],
   "source": [
    "area_ind_list[5]"
   ]
  },
  {
   "cell_type": "code",
   "execution_count": null,
   "metadata": {},
   "outputs": [],
   "source": [
    "data = np.delete(data, 222, axis=0)"
   ]
  },
  {
   "cell_type": "code",
   "execution_count": null,
   "metadata": {},
   "outputs": [],
   "source": [
    "data.shape"
   ]
  },
  {
   "cell_type": "code",
   "execution_count": null,
   "metadata": {},
   "outputs": [],
   "source": [
    "np.save('classification_data', data)"
   ]
  },
  {
   "cell_type": "code",
   "execution_count": null,
   "metadata": {},
   "outputs": [],
   "source": [
    "area_list = np.asarray(area_list)"
   ]
  },
  {
   "cell_type": "code",
   "execution_count": null,
   "metadata": {},
   "outputs": [],
   "source": [
    "area_list = np.delete(area_list, 222)"
   ]
  },
  {
   "cell_type": "code",
   "execution_count": null,
   "metadata": {},
   "outputs": [],
   "source": [
    "area_list.shape"
   ]
  },
  {
   "cell_type": "code",
   "execution_count": null,
   "metadata": {},
   "outputs": [],
   "source": [
    "np.save('classification_area', area_list)"
   ]
  },
  {
   "cell_type": "code",
   "execution_count": null,
   "metadata": {},
   "outputs": [],
   "source": [
    "area_list_unique = np.asarray(area_list_unique)\n",
    "area_list_unique = np.delete(area_list_unique, 5)"
   ]
  },
  {
   "cell_type": "code",
   "execution_count": null,
   "metadata": {},
   "outputs": [],
   "source": [
    "np.save('classification_area_list_unique', area_list_unique)"
   ]
  },
  {
   "cell_type": "code",
   "execution_count": null,
   "metadata": {},
   "outputs": [],
   "source": [
    "area_list_unique = area_list_unique.tolist()"
   ]
  },
  {
   "cell_type": "code",
   "execution_count": null,
   "metadata": {},
   "outputs": [],
   "source": [
    "area_ind_list = []\n",
    "for area in area_list:\n",
    "    area_ind_list.append(area_list_unique.index(area))"
   ]
  },
  {
   "cell_type": "code",
   "execution_count": null,
   "metadata": {},
   "outputs": [],
   "source": [
    "np.save('classification_area_ind_list', area_ind_list)"
   ]
  },
  {
   "cell_type": "code",
   "execution_count": null,
   "metadata": {},
   "outputs": [],
   "source": [
    "len(area_ind_list)"
   ]
  },
  {
   "cell_type": "markdown",
   "metadata": {},
   "source": [
    "## Unsupervised Classification "
   ]
  },
  {
   "cell_type": "markdown",
   "metadata": {},
   "source": [
    "## k-means"
   ]
  },
  {
   "cell_type": "code",
   "execution_count": null,
   "metadata": {},
   "outputs": [],
   "source": [
    "from sklearn.cluster import KMeans"
   ]
  },
  {
   "cell_type": "code",
   "execution_count": null,
   "metadata": {},
   "outputs": [],
   "source": [
    "kmeans = KMeans(n_clusters=7, random_state=0).fit(data)"
   ]
  },
  {
   "cell_type": "code",
   "execution_count": null,
   "metadata": {},
   "outputs": [],
   "source": [
    "prediction = kmeans.labels_"
   ]
  },
  {
   "cell_type": "code",
   "execution_count": null,
   "metadata": {},
   "outputs": [],
   "source": [
    "def plot(prediction, title):\n",
    "    plt.figure(figsize=(14,6))\n",
    "    for i_label in range(7):\n",
    "        pred_ind = [i for i, pred in enumerate(prediction) if pred==i_label]\n",
    "        area_num = np.zeros((7,))\n",
    "        for i_pred in pred_ind:\n",
    "            area = area_ind_list[i_pred]\n",
    "            area_num[area]+=1\n",
    "        \n",
    "        labels = area_list_unique\n",
    "        sizes = area_num\n",
    "\n",
    "        plt.subplot(2,4,i_label+1)\n",
    "        plt.pie(sizes, labels=labels, autopct='%1.1f%%')\n",
    "        plt.axis('equal')\n",
    "        plt.title('Cluster '+str(i_label+1))\n",
    "        plt.savefig(title+'.png', dpi=200)"
   ]
  },
  {
   "cell_type": "code",
   "execution_count": null,
   "metadata": {},
   "outputs": [],
   "source": [
    "plot(prediction, 'k-means')"
   ]
  },
  {
   "cell_type": "markdown",
   "metadata": {},
   "source": [
    "### GMM"
   ]
  },
  {
   "cell_type": "code",
   "execution_count": null,
   "metadata": {},
   "outputs": [],
   "source": [
    "from sklearn.mixture import GaussianMixture"
   ]
  },
  {
   "cell_type": "code",
   "execution_count": null,
   "metadata": {},
   "outputs": [],
   "source": [
    "gmm = GaussianMixture(n_components=7)"
   ]
  },
  {
   "cell_type": "code",
   "execution_count": null,
   "metadata": {},
   "outputs": [],
   "source": [
    "data.shape"
   ]
  },
  {
   "cell_type": "code",
   "execution_count": null,
   "metadata": {},
   "outputs": [],
   "source": [
    "gmm.fit(data)"
   ]
  },
  {
   "cell_type": "code",
   "execution_count": null,
   "metadata": {},
   "outputs": [],
   "source": [
    "labels = gmm.predict(data)"
   ]
  },
  {
   "cell_type": "code",
   "execution_count": null,
   "metadata": {},
   "outputs": [],
   "source": [
    "plot(labels, 'GMM')"
   ]
  },
  {
   "cell_type": "markdown",
   "metadata": {},
   "source": [
    "## Supervised Classification"
   ]
  },
  {
   "cell_type": "code",
   "execution_count": null,
   "metadata": {},
   "outputs": [],
   "source": [
    "data.shape"
   ]
  },
  {
   "cell_type": "code",
   "execution_count": null,
   "metadata": {},
   "outputs": [],
   "source": [
    "area_ind_list = np.asarray(area_ind_list)\n",
    "area_ind_list.shape\n",
    "label = area_ind_list"
   ]
  },
  {
   "cell_type": "code",
   "execution_count": null,
   "metadata": {},
   "outputs": [],
   "source": [
    "def get_data(data, label, num_train=250, num_test=100):\n",
    "    train_ind = np.random.choice(data.shape[0], num_train, replace=False)\n",
    "    left_ind = [i for i in np.arange(data.shape[0]) if i not in train_ind]\n",
    "    test_i= np.random.choice(data.shape[0]-num_train, num_test, replace=False)\n",
    "    test_ind = [left_ind[i] for i in test_i]\n",
    "    \n",
    "    train_data = [data[i,:] for i in train_ind]\n",
    "    train_label = [label[i] for i in train_ind]\n",
    "    test_data = [data[i,:] for i in test_ind]\n",
    "    test_label = [label[i] for i in test_ind]\n",
    "\n",
    "    train_data = np.asarray(train_data)\n",
    "    train_label = np.asarray(train_label)\n",
    "    test_data = np.asarray(test_data)\n",
    "    test_label = np.asarray(test_label)\n",
    "    return train_data, train_label, test_data, test_label"
   ]
  },
  {
   "cell_type": "code",
   "execution_count": null,
   "metadata": {},
   "outputs": [],
   "source": [
    "def test_KNeigh(data, label, num_trial=100):\n",
    "    acc_list = np.zeros((num_trial,))\n",
    "    for i_trial in range(num_trial):\n",
    "        train_data, train_label, test_data, test_label = get_data(data, label)\n",
    "        neigh = KNeighborsClassifier(n_neighbors=3)\n",
    "        neigh.fit(train_data, train_label)\n",
    "        pred = neigh.predict(test_data)\n",
    "        acc = 100*np.sum((pred-test_label)==0)/50\n",
    "        acc_list[i_trial] = acc\n",
    "    return acc_list"
   ]
  },
  {
   "cell_type": "code",
   "execution_count": null,
   "metadata": {},
   "outputs": [],
   "source": [
    "def test_NaiveB(data, label, num_trial=100):\n",
    "    acc_list = np.zeros((num_trial,))\n",
    "    for i_trial in range(num_trial):\n",
    "        train_data, train_label, test_data, test_label = get_data(data, label)\n",
    "        gnb = GaussianNB()\n",
    "        pred = gnb.fit(train_data, train_label).predict(test_data)\n",
    "        acc = 100*np.sum((pred-test_label)==0)/50\n",
    "        acc_list[i_trial] = acc\n",
    "    return acc_list"
   ]
  },
  {
   "cell_type": "code",
   "execution_count": null,
   "metadata": {},
   "outputs": [],
   "source": [
    "from sklearn.svm import SVC\n",
    "def test_SVC(data, label, num_trial=100):\n",
    "    acc_list = np.zeros((num_trial,))\n",
    "    for i_trial in range(num_trial):\n",
    "        train_data, train_label, test_data, test_label = get_data(data, label)\n",
    "        clf = SVC(gamma='auto')\n",
    "        clf.fit(train_data, train_label)\n",
    "        score_SVM = clf.score(test_data, test_label)\n",
    "        acc_list[i_trial] = 100*score_SVM\n",
    "    return acc_list"
   ]
  },
  {
   "cell_type": "code",
   "execution_count": null,
   "metadata": {},
   "outputs": [],
   "source": [
    "from sklearn.tree import DecisionTreeClassifier\n",
    "def test_Tree(data, label, num_trial=100):\n",
    "    acc_list = np.zeros((num_trial,))\n",
    "    for i_trial in range(num_trial):\n",
    "        train_data, train_label, test_data, test_label = get_data(data, label)\n",
    "        clf = DecisionTreeClassifier()\n",
    "        clf.fit(train_data, train_label)\n",
    "        score_RF = clf.score(test_data, test_label)\n",
    "        acc_list[i_trial] = 100*score_RF\n",
    "    return acc_list"
   ]
  },
  {
   "cell_type": "code",
   "execution_count": null,
   "metadata": {},
   "outputs": [],
   "source": [
    "acc_list = [[] for i in range(4)]\n",
    "acc_list[0] = test_KNeigh(data, label)\n",
    "acc_list[1] = test_NaiveB(data, label)\n",
    "acc_list[2] = test_SVC(data, label)\n",
    "acc_list[3] = test_Tree(data, label)"
   ]
  },
  {
   "cell_type": "code",
   "execution_count": null,
   "metadata": {},
   "outputs": [],
   "source": [
    "acc_mean = np.zeros((4,))\n",
    "acc_std = np.zeros((4,))\n",
    "for i in range(4):\n",
    "    acc_mean[i] = np.mean(acc_list[i])\n",
    "    acc_std[i] = np.std(acc_list[i])"
   ]
  },
  {
   "cell_type": "code",
   "execution_count": null,
   "metadata": {},
   "outputs": [],
   "source": [
    "plt.figure(figsize=(3,3))\n",
    "plt.bar(np.arange(4), acc_mean, 0.5, yerr=acc_std)\n",
    "plt.xlabel('Classification Methods')\n",
    "plt.ylabel('Accuracy')\n",
    "plt.ylim([0,100])\n",
    "plt.xticks(np.arange(4), ('KNeigh', 'NaiveB', 'SVC', 'Tree'))"
   ]
  }
 ],
 "metadata": {
  "kernelspec": {
   "display_name": "Python 3",
   "language": "python",
   "name": "python3"
  },
  "language_info": {
   "codemirror_mode": {
    "name": "ipython",
    "version": 3
   },
   "file_extension": ".py",
   "mimetype": "text/x-python",
   "name": "python",
   "nbconvert_exporter": "python",
   "pygments_lexer": "ipython3",
   "version": "3.6.5"
  }
 },
 "nbformat": 4,
 "nbformat_minor": 2
}
