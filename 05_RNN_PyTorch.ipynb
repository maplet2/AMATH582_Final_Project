{
 "cells": [
  {
   "cell_type": "code",
   "execution_count": 2,
   "metadata": {
    "colab": {
     "autoexec": {
      "startup": false,
      "wait_interval": 0
     }
    },
    "colab_type": "code",
    "id": "6o3Jq90ajubP"
   },
   "outputs": [],
   "source": [
    "import numpy as np\n",
    "\n",
    "import torch\n",
    "import torch.nn as nn\n",
    "from torch.autograd import Variable\n",
    "import torch.optim as optim\n",
    "import torch.nn.functional as F \n",
    "\n",
    "import torchvision\n",
    "import torchvision.transforms as transforms\n",
    "\n",
    "import matplotlib.pyplot as plt\n",
    "from sklearn import preprocessing\n",
    "%matplotlib inline"
   ]
  },
  {
   "cell_type": "markdown",
   "metadata": {
    "colab_type": "text",
    "id": "LBiAn35rj87m"
   },
   "source": [
    "# Helper function"
   ]
  },
  {
   "cell_type": "code",
   "execution_count": 3,
   "metadata": {
    "colab": {
     "autoexec": {
      "startup": false,
      "wait_interval": 0
     }
    },
    "colab_type": "code",
    "id": "CjLwSgaRj8Ou"
   },
   "outputs": [],
   "source": [
    "class SimpleRNN(nn.Module):\n",
    "    def __init__(self, input_size, hidden_size, output_size, batch):\n",
    "        super(SimpleRNN, self).__init__()\n",
    "\n",
    "        self.batch = batch\n",
    "        self.hidden_size = hidden_size\n",
    "\n",
    "        self.rnn = nn.RNN(hidden_size, hidden_size)\n",
    "        self.linear = nn.Linear(hidden_size, output_size)\n",
    "        \n",
    "        self.fc1 = nn.Linear(184832, 500)\n",
    "        self.fc2 = nn.Linear(500,536) # layer 1 to output\n",
    "        \n",
    "    \n",
    "    def init_hidden(self):\n",
    "        return torch.randn(1,1, self.hidden_size)\n",
    "  \n",
    "    def forward(self, inputs, hidden):\n",
    "        in2 = F.relu(self.fc1(inputs))\n",
    "        outputs, hidden = self.rnn(in2.unsqueeze(1), hidden)\n",
    "        outputs = F.relu(self.fc2(outputs))\n",
    "        outputs = outputs.view(outputs.size(0),-1)\n",
    "        return outputs, hidden"
   ]
  },
  {
   "cell_type": "code",
   "execution_count": 4,
   "metadata": {
    "colab": {
     "autoexec": {
      "startup": false,
      "wait_interval": 0
     }
    },
    "colab_type": "code",
    "id": "vEmhgvUsoz3d"
   },
   "outputs": [],
   "source": [
    "batch_size = 50"
   ]
  },
  {
   "cell_type": "code",
   "execution_count": 5,
   "metadata": {
    "colab": {
     "autoexec": {
      "startup": false,
      "wait_interval": 0
     },
     "base_uri": "https://localhost:8080/",
     "height": 85
    },
    "colab_type": "code",
    "executionInfo": {
     "elapsed": 4671,
     "status": "ok",
     "timestamp": 1530576120576,
     "user": {
      "displayName": "Jiaqi Shang",
      "photoUrl": "//lh6.googleusercontent.com/-T-DgzfzbvhA/AAAAAAAAAAI/AAAAAAAACqs/84OA_xb7Fbw/s50-c-k-no/photo.jpg",
      "userId": "110805697160072366048"
     },
     "user_tz": 420
    },
    "id": "QRY9ypL8kYO1",
    "outputId": "366e2e05-57ab-401b-fec3-cd8802adf9f5"
   },
   "outputs": [],
   "source": [
    "model = SimpleRNN(input_size = 184832,\n",
    "                 hidden_size = 500,\n",
    "                 output_size = 536,\n",
    "                 batch = batch_size)\n",
    "loss_fn = nn.BCEWithLogitsLoss()\n",
    "optimizer = optim.SGD(model.parameters(), lr=0.001, momentum=0.5)"
   ]
  },
  {
   "cell_type": "markdown",
   "metadata": {
    "colab_type": "text",
    "id": "mAnRL4ikeYi-"
   },
   "source": [
    "# Load trained parameters"
   ]
  },
  {
   "cell_type": "code",
   "execution_count": 6,
   "metadata": {
    "colab": {
     "autoexec": {
      "startup": false,
      "wait_interval": 0
     }
    },
    "colab_type": "code",
    "id": "BK950I0FYJ5C"
   },
   "outputs": [],
   "source": [
    "# load training data \n",
    "out_temp = np.load('RNN_data.npy')\n",
    "inp_temp = np.load('inp.npy')\n"
   ]
  },
  {
   "cell_type": "code",
   "execution_count": 7,
   "metadata": {},
   "outputs": [],
   "source": [
    "# Normalize data across the neurons\n",
    "out = np.zeros(out_temp.shape)\n",
    "scaler = preprocessing.StandardScaler()\n",
    "for n in np.arange(536):\n",
    "    slic = out_temp[n, :, :]\n",
    "    a = scaler.fit_transform(slic)\n",
    "    out[n, :,:] = a"
   ]
  },
  {
   "cell_type": "code",
   "execution_count": 8,
   "metadata": {},
   "outputs": [],
   "source": [
    "# Bin movie data\n",
    "inp = np.zeros((300, inp_temp.shape[1]))\n",
    "for i in np.arange(0,900,3):\n",
    "    msum = (inp_temp[i, :] + inp_temp[i+1, :] + inp_temp[i+2, :]) / 3\n",
    "    inp[int(i / 3), :] = msum"
   ]
  },
  {
   "cell_type": "code",
   "execution_count": 9,
   "metadata": {},
   "outputs": [],
   "source": [
    "def get_train_batch(batch_size, dataset_size=300):\n",
    "    id_list = np.random.choice(np.arange(300), batch_size)\n",
    "    id_list2 = np.random.choice(np.arange(40), batch_size)\n",
    "    \n",
    "    k = 0\n",
    "    \n",
    "    inputs_list = []\n",
    "    outputs_list = []\n",
    "    for i in id_list:\n",
    "        j = id_list2[k]\n",
    "        inputs_list.append(inp[i][:].astype(np.float32))\n",
    "        outputs_list.append(out[:,j,i].astype(np.float32))\n",
    "    inputs_list = np.asarray(inputs_list)\n",
    "    outputs_list = np.asarray(outputs_list)\n",
    "    return inputs_list, outputs_list "
   ]
  },
  {
   "cell_type": "code",
   "execution_count": 10,
   "metadata": {},
   "outputs": [
    {
     "name": "stdout",
     "output_type": "stream",
     "text": [
      "(536, 60, 300)\n",
      "(300, 184832)\n"
     ]
    }
   ],
   "source": [
    "print(out.shape)\n",
    "print(inp.shape)"
   ]
  },
  {
   "cell_type": "code",
   "execution_count": 11,
   "metadata": {},
   "outputs": [],
   "source": [
    "num_samples = 4"
   ]
  },
  {
   "cell_type": "code",
   "execution_count": 13,
   "metadata": {},
   "outputs": [
    {
     "name": "stdout",
     "output_type": "stream",
     "text": [
      "Current epoch:  5 ; total loss is:  tensor(3.0122)\n",
      "Current epoch:  10 ; total loss is:  tensor(3.0519)\n",
      "Current epoch:  15 ; total loss is:  tensor(3.0342)\n",
      "Current epoch:  20 ; total loss is:  tensor(2.9455)\n",
      "Current epoch:  25 ; total loss is:  tensor(2.9669)\n",
      "Current epoch:  30 ; total loss is:  tensor(2.9516)\n",
      "Current epoch:  35 ; total loss is:  tensor(2.9640)\n",
      "Current epoch:  40 ; total loss is:  tensor(2.9399)\n",
      "Current epoch:  45 ; total loss is:  tensor(2.9179)\n",
      "Current epoch:  50 ; total loss is:  tensor(2.9109)\n",
      "Current epoch:  55 ; total loss is:  tensor(2.9027)\n",
      "Current epoch:  60 ; total loss is:  tensor(2.8816)\n",
      "Current epoch:  65 ; total loss is:  tensor(2.8892)\n",
      "Current epoch:  70 ; total loss is:  tensor(2.8678)\n",
      "Current epoch:  75 ; total loss is:  tensor(2.8546)\n",
      "Current epoch:  80 ; total loss is:  tensor(2.8501)\n",
      "Current epoch:  85 ; total loss is:  tensor(2.8511)\n",
      "Current epoch:  90 ; total loss is:  tensor(2.8424)\n",
      "Current epoch:  95 ; total loss is:  tensor(2.8312)\n",
      "Current epoch:  100 ; total loss is:  tensor(2.8199)\n",
      "Current epoch:  105 ; total loss is:  tensor(2.8258)\n",
      "Current epoch:  110 ; total loss is:  tensor(2.8174)\n",
      "Current epoch:  115 ; total loss is:  tensor(2.8085)\n",
      "Current epoch:  120 ; total loss is:  tensor(2.7990)\n",
      "Current epoch:  125 ; total loss is:  tensor(2.8012)\n",
      "Current epoch:  130 ; total loss is:  tensor(2.7943)\n",
      "Current epoch:  135 ; total loss is:  tensor(2.7934)\n",
      "Current epoch:  140 ; total loss is:  tensor(2.7972)\n",
      "Current epoch:  145 ; total loss is:  tensor(2.7907)\n",
      "Current epoch:  150 ; total loss is:  tensor(2.7856)\n",
      "Current epoch:  155 ; total loss is:  tensor(2.7908)\n",
      "Current epoch:  160 ; total loss is:  tensor(2.7824)\n",
      "Current epoch:  165 ; total loss is:  tensor(2.7795)\n",
      "Current epoch:  170 ; total loss is:  tensor(2.7798)\n",
      "Current epoch:  175 ; total loss is:  tensor(2.7822)\n",
      "Current epoch:  180 ; total loss is:  tensor(2.7814)\n",
      "Current epoch:  185 ; total loss is:  tensor(2.7789)\n",
      "Current epoch:  190 ; total loss is:  tensor(2.7767)\n",
      "Current epoch:  195 ; total loss is:  tensor(2.7773)\n",
      "Current epoch:  200 ; total loss is:  tensor(2.7778)\n",
      "Current epoch:  205 ; total loss is:  tensor(2.7740)\n",
      "Current epoch:  210 ; total loss is:  tensor(2.7746)\n",
      "Current epoch:  215 ; total loss is:  tensor(2.7767)\n",
      "Current epoch:  220 ; total loss is:  tensor(2.7745)\n",
      "Current epoch:  225 ; total loss is:  tensor(2.7739)\n",
      "Current epoch:  230 ; total loss is:  tensor(2.7746)\n",
      "Current epoch:  235 ; total loss is:  tensor(2.7732)\n",
      "Current epoch:  240 ; total loss is:  tensor(2.7734)\n",
      "Current epoch:  245 ; total loss is:  tensor(2.7744)\n",
      "Current epoch:  250 ; total loss is:  tensor(2.7737)\n"
     ]
    }
   ],
   "source": [
    "#def train_with_epoch(inp, out):\n",
    "\"\"\"\n",
    "  Train the model and save checkpoints during training.\n",
    "  \n",
    "  Args: \n",
    "    model: the model to train on\n",
    "    num_epoch: the number of epochs to train. \n",
    "    inputs_seq: the input sequence \n",
    "    targets_seq: the target sequence \n",
    "    print_epoch: number of epoch interval to print loss. \n",
    "    save_epoch: number of epoch interval to save the model.\n",
    "\"\"\"\n",
    "loss_list = []\n",
    "switch_accuracy_list = []\n",
    "total_accuracy_list = []\n",
    "\n",
    "epoch = 0 \n",
    "switch_accuracy = 0\n",
    "total_accuracy = 0\n",
    "print_epoch = 5\n",
    "max_epochs = 250\n",
    "\n",
    "\n",
    "while (epoch < max_epochs):\n",
    "\n",
    "    epoch += 1 \n",
    "\n",
    "    model.train()\n",
    "\n",
    "    total_loss = 0.0 \n",
    "\n",
    "    for i in range(num_samples):\n",
    "\n",
    "        # Prepare inputs and targets\n",
    "        inputs_list, outputs_list = get_train_batch(batch_size=50)\n",
    "\n",
    "        inputs = Variable(torch.from_numpy(inputs_list))\n",
    "        labels = Variable(torch.from_numpy(outputs_list), requires_grad=False)\n",
    "\n",
    "        # Zero out gradients\n",
    "        optimizer.zero_grad()\n",
    "\n",
    "        # clear out hidden\n",
    "        hidden = model.init_hidden()\n",
    "        hidden = Variable(hidden)\n",
    "\n",
    "        # forward \n",
    "        outputs, hidden = model(inputs, hidden)\n",
    "\n",
    "        # loss and backward \n",
    "        loss = loss_fn(outputs, labels)\n",
    "        loss.backward()\n",
    "\n",
    "        # optim\n",
    "        optimizer.step()\n",
    "\n",
    "        # record loss\n",
    "        total_loss += loss.data\n",
    "\n",
    "    loss_list.append(total_loss)\n",
    "    if epoch % print_epoch == 0: \n",
    "        print(\"Current epoch: \", epoch, \"; total loss is: \", total_loss)"
   ]
  },
  {
   "cell_type": "code",
   "execution_count": 17,
   "metadata": {},
   "outputs": [
    {
     "data": {
      "image/png": "[encoded data removed]",
      "text/plain": [
       "<Figure size 108x144 with 1 Axes>"
      ]
     },
     "metadata": {
      "needs_background": "light"
     },
     "output_type": "display_data"
    }
   ],
   "source": [
    "plt.figure(figsize=(1.5,2))\n",
    "plt.plot(loss_list)\n",
    "plt.xlabel('epoch')\n",
    "plt.ylabel('MSE Loss')\n",
    "plt.title('RNN loss')\n",
    "plt.savefig('loss2.png', bbox_inches=\"tight\")"
   ]
  },
  {
   "cell_type": "code",
   "execution_count": 49,
   "metadata": {},
   "outputs": [],
   "source": [
    "out_test = out[:, 55, 9].astype(np.float32)\n",
    "inp_test = np.reshape(inp[9, :].astype(np.float32), (1, 184832))\n",
    "\n",
    "inputs = Variable(torch.from_numpy(inp_test), requires_grad=False)\n",
    "\n",
    "hidden = model.init_hidden()\n",
    "hidden = Variable(hidden)\n",
    "\n",
    "output_test, hidden = model(inputs, hidden)\n",
    "\n",
    "#output_test = F.sigmoid(output_test)\n",
    "#pred = (output.data >= 0.5).long()\n",
    "\n"
   ]
  },
  {
   "cell_type": "code",
   "execution_count": 50,
   "metadata": {},
   "outputs": [
    {
     "data": {
      "text/plain": [
       "(1, 184832)"
      ]
     },
     "execution_count": 50,
     "metadata": {},
     "output_type": "execute_result"
    }
   ],
   "source": [
    "inp_test.shape"
   ]
  },
  {
   "cell_type": "code",
   "execution_count": 51,
   "metadata": {},
   "outputs": [
    {
     "data": {
      "text/plain": [
       "tensor([[0.0000, 0.0000, 0.0000, 0.0000, 0.0000, 0.0000, 0.0000, 0.0000, 0.0000,\n",
       "         0.0000, 0.0000, 0.0000, 0.0000, 0.0000, 0.0000, 0.0000, 0.0000, 0.0000,\n",
       "         0.0000, 0.0000, 0.0000, 0.0000, 0.0000, 0.0000, 0.0000, 0.0000, 0.0000,\n",
       "         0.0000, 0.1658, 0.0000, 0.0000, 0.0000, 0.0000, 0.0000, 0.0000, 0.0000,\n",
       "         0.0000, 0.0000, 0.0000, 0.0648, 0.0000, 0.0000, 0.0000, 0.0000, 0.0000,\n",
       "         0.0000, 0.0000, 0.0000, 0.0000, 0.0000, 0.0000, 0.0000, 0.0000, 0.0000,\n",
       "         0.0000, 0.0000, 0.0000, 0.0000, 0.0000, 0.0000, 0.0000, 0.0000, 0.0000,\n",
       "         0.0000, 0.0000, 0.0000, 0.0000, 0.0000, 0.0000, 0.0000, 0.0000, 0.0000,\n",
       "         0.0000, 0.0000, 0.0000, 0.0000, 0.0000, 0.0000, 0.0000, 0.0000, 0.0000,\n",
       "         0.0000, 0.0000, 0.0000, 0.0000, 0.0000, 0.0000, 0.0000, 0.0000, 0.0000,\n",
       "         0.0000, 0.0000, 0.0000, 0.0000, 0.0000, 0.0000, 0.0000, 0.0000, 0.0000,\n",
       "         0.0000, 0.0000, 0.0000, 0.0000, 0.0000, 0.0000, 0.0000, 0.0000, 0.0000,\n",
       "         0.0000, 0.0000, 0.0000, 0.0000, 0.0000, 0.0000, 0.0000, 0.0000, 0.0000,\n",
       "         0.0000, 0.0000, 0.0000, 0.0000, 0.0000, 0.0000, 0.0000, 0.0000, 0.0000,\n",
       "         0.0000, 0.0000, 0.0000, 0.0000, 0.0000, 0.0000, 0.0000, 0.0000, 0.0000,\n",
       "         0.0000, 0.0000, 0.0000, 0.0000, 0.0000, 0.0000, 0.0000, 0.0000, 0.0000,\n",
       "         0.0000, 0.0000, 0.0000, 0.0000, 0.0000, 0.0000, 0.0000, 0.0000, 0.0000,\n",
       "         0.0000, 0.0000, 0.0000, 0.0000, 0.0000, 0.0000, 0.0000, 0.0000, 0.0000,\n",
       "         0.0000, 0.0000, 0.0000, 0.0000, 0.0000, 0.0000, 0.0000, 0.0000, 0.0000,\n",
       "         0.0000, 0.0000, 0.0000, 0.0000, 0.0000, 0.0000, 0.0000, 0.0000, 0.0000,\n",
       "         0.0000, 0.0000, 0.0000, 0.0000, 0.0000, 0.0000, 0.0000, 0.0000, 0.0000,\n",
       "         0.0000, 0.0000, 0.0000, 0.0000, 0.0000, 0.0000, 0.0000, 0.0000, 0.0000,\n",
       "         0.0000, 0.0000, 0.0000, 0.0000, 0.0000, 0.0000, 0.0000, 0.0000, 0.0000,\n",
       "         0.0000, 0.0000, 0.0000, 0.0000, 0.0000, 0.0000, 0.0000, 0.0000, 0.0000,\n",
       "         0.0000, 0.0000, 0.0000, 0.0000, 0.0000, 0.0000, 0.0000, 0.0000, 0.0000,\n",
       "         0.0000, 0.0000, 0.0000, 0.0000, 0.0000, 0.0000, 0.0000, 0.0000, 0.0000,\n",
       "         0.0000, 0.0000, 0.0000, 0.0000, 0.0000, 0.0000, 0.0000, 0.0000, 0.0000,\n",
       "         0.0000, 0.0000, 0.0000, 0.0000, 0.0000, 0.0000, 0.0000, 0.0000, 0.0000,\n",
       "         0.0000, 0.0000, 0.0000, 0.0000, 0.0000, 0.0000, 0.0000, 0.0000, 0.0000,\n",
       "         0.0000, 0.0000, 0.0000, 0.0000, 0.0000, 0.0000, 0.0000, 0.0000, 0.0000,\n",
       "         0.0000, 0.0000, 0.0000, 0.0000, 0.0000, 0.0000, 0.0000, 0.0000, 0.0000,\n",
       "         0.0000, 0.0000, 0.0000, 0.0000, 0.0000, 0.0000, 0.0000, 0.0000, 0.0000,\n",
       "         0.0000, 0.0000, 0.0000, 0.0000, 0.0000, 0.0000, 0.0000, 0.0000, 0.0000,\n",
       "         0.0000, 0.0000, 0.0000, 0.0000, 0.0000, 0.0000, 0.0000, 0.0000, 0.0000,\n",
       "         0.0000, 0.0000, 0.0000, 0.0000, 0.0000, 0.0000, 0.0000, 0.0000, 0.0000,\n",
       "         0.0000, 0.0000, 0.0000, 0.0000, 0.0000, 0.0000, 0.0000, 0.0000, 0.0000,\n",
       "         0.0000, 0.0000, 0.0000, 0.0000, 0.0000, 0.0000, 0.0000, 0.0000, 0.0000,\n",
       "         0.0000, 0.0000, 0.0000, 0.0000, 0.0000, 0.0000, 0.0000, 0.0000, 0.0000,\n",
       "         0.0000, 0.0000, 0.0000, 0.0000, 0.0000, 0.0000, 0.0000, 0.0000, 0.0000,\n",
       "         0.0000, 0.0000, 0.0000, 0.0000, 0.0000, 0.0000, 0.0000, 0.0000, 0.0000,\n",
       "         0.0000, 0.0000, 0.0000, 0.0000, 0.0000, 0.0000, 0.0000, 0.0000, 0.0000,\n",
       "         0.0000, 0.0000, 0.0000, 0.0000, 0.0000, 0.0000, 0.0000, 0.0000, 0.0000,\n",
       "         0.0000, 0.0000, 0.0000, 0.0000, 0.0000, 0.0000, 0.0000, 0.0000, 0.0000,\n",
       "         0.0000, 0.0000, 0.0000, 0.0000, 0.0000, 0.0000, 0.0000, 0.0000, 0.0000,\n",
       "         0.0000, 0.0000, 0.0000, 0.0000, 0.0000, 0.0000, 0.0000, 0.0000, 0.0000,\n",
       "         0.0000, 0.0000, 0.0000, 0.0000, 0.0000, 0.0000, 0.0000, 0.0000, 0.0000,\n",
       "         0.0000, 0.0000, 0.0000, 0.0000, 0.0000, 0.0000, 0.0000, 0.0000, 0.0000,\n",
       "         0.0000, 0.0000, 0.0000, 0.0000, 0.0000, 0.0000, 0.0000, 0.0000, 0.0000,\n",
       "         0.0000, 0.0000, 0.0000, 0.0000, 0.0000, 0.0000, 0.0000, 0.0000, 0.0000,\n",
       "         0.0000, 0.0000, 0.0000, 0.0000, 0.0000, 0.0000, 0.0000, 0.0000, 0.0000,\n",
       "         0.0000, 0.0000, 0.0000, 0.0000, 0.0000, 0.0000, 0.0000, 0.0000, 0.0000,\n",
       "         0.0000, 0.0000, 0.0000, 0.0000, 0.0000, 0.0000, 0.0000, 0.0000, 0.0000,\n",
       "         0.0000, 0.0000, 0.0000, 0.0000, 0.0000, 0.0000, 0.0000, 0.0000, 0.0000,\n",
       "         0.0000, 0.0000, 0.0000, 0.0000, 0.0000, 0.0000, 0.0000, 0.0000, 0.0836,\n",
       "         0.0000, 0.0000, 0.0000, 0.0000, 0.0000, 0.0000, 0.0000, 0.0000, 0.0000,\n",
       "         0.0000, 0.0000, 0.0000, 0.0000, 0.0000, 0.0000, 0.0000, 0.0000, 0.0000,\n",
       "         0.0000, 0.0303, 0.0000, 0.0000, 0.0000, 0.0000, 0.0000, 0.0000, 0.0000,\n",
       "         0.0000, 0.0000, 0.0000, 0.0000, 0.0000, 0.0000, 0.0000, 0.0000, 0.0000,\n",
       "         0.0000, 0.0000, 0.0000, 0.0000, 0.0000, 0.0000, 0.0000, 0.0000, 0.0000,\n",
       "         0.0000, 0.0000, 0.0000, 0.0000, 0.0000]])"
      ]
     },
     "execution_count": 51,
     "metadata": {},
     "output_type": "execute_result"
    }
   ],
   "source": [
    "output_test.data"
   ]
  },
  {
   "cell_type": "code",
   "execution_count": 61,
   "metadata": {},
   "outputs": [
    {
     "data": {
      "image/png": "[encoded data removed]",
      "text/plain": [
       "<Figure size 432x288 with 1 Axes>"
      ]
     },
     "metadata": {
      "needs_background": "light"
     },
     "output_type": "display_data"
    }
   ],
   "source": [
    "a = output_test.data.numpy()\n",
    "plt.plot(out_test)\n",
    "plt.plot(a.flatten())\n",
    "plt.ylabel('Spikes')\n",
    "plt.xlabel('Neuron Number')\n",
    "plt.legend(['Actual', 'Predicted'])\n",
    "plt.title('Predicted Spikes vs Actual Spikes Using RNN (Standardized)')\n",
    "plt.savefig('predicted2.png')\n",
    "plt.show()"
   ]
  },
  {
   "cell_type": "code",
   "execution_count": 56,
   "metadata": {},
   "outputs": [],
   "source": [
    "np.save('a.npy',a)"
   ]
  },
  {
   "cell_type": "code",
   "execution_count": null,
   "metadata": {},
   "outputs": [],
   "source": []
  }
 ],
 "metadata": {
  "accelerator": "GPU",
  "colab": {
   "default_view": {},
   "name": "04_b_get_RNN_prediction_same_training_set.ipynb",
   "provenance": [],
   "version": "0.3.2",
   "views": {}
  },
  "kernelspec": {
   "display_name": "Python 3",
   "language": "python",
   "name": "python3"
  },
  "language_info": {
   "codemirror_mode": {
    "name": "ipython",
    "version": 3
   },
   "file_extension": ".py",
   "mimetype": "text/x-python",
   "name": "python",
   "nbconvert_exporter": "python",
   "pygments_lexer": "ipython3",
   "version": "3.7.3"
  }
 },
 "nbformat": 4,
 "nbformat_minor": 1
}
